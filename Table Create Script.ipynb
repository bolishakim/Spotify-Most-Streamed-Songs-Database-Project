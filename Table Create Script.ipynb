{
 "cells": [
  {
   "cell_type": "code",
   "execution_count": 5,
   "id": "e660ddf1-dc26-4229-9e77-dd69d325a504",
   "metadata": {},
   "outputs": [],
   "source": [
    "import pandas as pd"
   ]
  },
  {
   "cell_type": "markdown",
   "id": "0f7b5080-d770-4aff-8e48-8ca706dfa5b7",
   "metadata": {},
   "source": [
    "# Load the data"
   ]
  },
  {
   "cell_type": "code",
   "execution_count": 7,
   "id": "8415caae-76bb-485e-bc6f-0fe7740d0703",
   "metadata": {},
   "outputs": [],
   "source": [
    "# Load the dataset\n",
    "df = pd.read_csv('Spotify Most Streamed Songs.csv')"
   ]
  },
  {
   "cell_type": "markdown",
   "id": "c3afb61a-b296-481a-a059-d4389910c040",
   "metadata": {},
   "source": [
    "# Data cleaning & preprocessing"
   ]
  },
  {
   "cell_type": "code",
   "execution_count": 9,
   "id": "414645e7-0da1-4030-96fd-45a6fa8de72e",
   "metadata": {},
   "outputs": [],
   "source": [
    "df = df.drop_duplicates(subset=['track_name'])\n",
    "df['track_name'] = df['track_name'].str.replace(r'[^\\x00-\\x7F]+', '?', regex=True)\n",
    "# Convert columns to numeric and handle errors (non-numeric values will become NaN)\n",
    "df['streams'] = pd.to_numeric(df['streams'], errors='coerce')\n",
    "df['in_deezer_playlists'] = df['in_deezer_playlists'].str.replace(',', '').astype(int)\n",
    "df['in_deezer_playlists'] = pd.to_numeric(df['in_deezer_playlists'], errors='coerce')\n",
    "df['in_shazam_charts'] = pd.to_numeric(df['in_shazam_charts'], errors='coerce')\n",
    "\n",
    "# Fill NaN values with 0 or any other value before converting to int64\n",
    "df['streams'] = df['streams'].fillna(0).astype('int64')\n",
    "df['in_deezer_playlists'] = df['in_deezer_playlists'].fillna(0).astype('int64')\n",
    "df['in_shazam_charts'] = df['in_shazam_charts'].fillna(0).astype('int64')\n",
    "\n",
    "# Convert other columns that are categorical or strings to appropriate types\n",
    "df['mode'] = df['mode'].astype('category')"
   ]
  },
  {
   "cell_type": "markdown",
   "id": "7cb680e0-67a5-45a0-ba9d-e9dee859b680",
   "metadata": {},
   "source": [
    "# Normalize the Artist Table and Track Table"
   ]
  },
  {
   "cell_type": "code",
   "execution_count": 11,
   "id": "a651a861-b654-41c9-a5a4-272c9d038bd3",
   "metadata": {},
   "outputs": [],
   "source": [
    "# Initialize an empty list for storing artist-track associations\n",
    "artist_rows = []\n",
    "\n",
    "# Iterate through the dataset to split and normalize artist names\n",
    "for index, row in df.iterrows():\n",
    "    artists = [artist.strip() for artist in row['artist(s)_name'].split(',')]  # Split artist names by comma\n",
    "    for artist in artists:\n",
    "        # For each artist, create a record with associated track details\n",
    "        artist_rows.append({\n",
    "            'Artist_Name': artist,\n",
    "            'Track_Name': row['track_name'],\n",
    "            'Streams': row['streams'],\n",
    "            'Released_Month': row['released_month'],\n",
    "            'Released_Year': row['released_year'],\n",
    "            'Released_Day': row['released_day'],\n",
    "            'Cover_URL': row.get('cover_url', 'Not Found')  # Handle missing Cover_URL with a default value\n",
    "        })\n",
    "\n",
    "# Convert the artist-track data to a DataFrame\n",
    "normalized_df = pd.DataFrame(artist_rows)"
   ]
  },
  {
   "cell_type": "markdown",
   "id": "f9cb7ade-bf0e-4589-94ef-b7670f2790ce",
   "metadata": {},
   "source": [
    "# 1. Artist Table"
   ]
  },
  {
   "cell_type": "code",
   "execution_count": 13,
   "id": "b9506962-1bbc-42ac-bb27-25ff01ca6fd3",
   "metadata": {},
   "outputs": [],
   "source": [
    "# Extract unique artists and assign unique IDs\n",
    "artist_df = normalized_df[['Artist_Name']].drop_duplicates().reset_index(drop=True)\n",
    "artist_df['Artist_ID'] = 'Ar' + (artist_df.index + 1000).astype(str)\n",
    "cols = ['Artist_ID'] + [col for col in artist_df.columns if col != 'Artist_ID']\n",
    "artist_df = artist_df[cols]"
   ]
  },
  {
   "cell_type": "markdown",
   "id": "42ac5edc-3697-44e4-88d0-f7ada95363a2",
   "metadata": {},
   "source": [
    "# 2. Track Table"
   ]
  },
  {
   "cell_type": "code",
   "execution_count": 15,
   "id": "e32b2cab-d4a0-48b4-b765-33a834338c77",
   "metadata": {},
   "outputs": [],
   "source": [
    "# Extract unique track-related data and assign unique IDs\n",
    "track_df = normalized_df[['Track_Name', 'Streams', 'Released_Day', 'Released_Month', 'Released_Year', 'Cover_URL']].drop_duplicates().reset_index(drop=True)\n",
    "track_df['Track_ID'] = 'Tr' + (track_df.index + 1000).astype(str)\n",
    "cols = ['Track_ID'] + [col for col in track_df.columns if col != 'Track_ID']\n",
    "track_df = track_df[cols]"
   ]
  },
  {
   "cell_type": "markdown",
   "id": "8281d23e-0bd7-4aa4-97ab-9f09c3637f5f",
   "metadata": {},
   "source": [
    "# 3. Artist-Track Table (Many-to-Many Relationship)"
   ]
  },
  {
   "cell_type": "code",
   "execution_count": 17,
   "id": "6a6360d6-5e8d-4d7c-86e3-d13244f12a5b",
   "metadata": {},
   "outputs": [],
   "source": [
    "# Create a join table to store artist-track associations\n",
    "artist_track_data = []\n",
    "\n",
    "for idx, row in normalized_df.iterrows():\n",
    "    track_id = track_df[track_df['Track_Name'] == row['Track_Name']].iloc[0]['Track_ID']\n",
    "    artist_id = artist_df[artist_df['Artist_Name'] == row['Artist_Name']].iloc[0]['Artist_ID']\n",
    "    \n",
    "    # Add the relationship to the join table\n",
    "    artist_track_data.append({\n",
    "        'Artist_ID': artist_id,\n",
    "        'Track_ID': track_id\n",
    "    })\n",
    "\n",
    "# Convert the artist-track association data into a DataFrame\n",
    "artist_track_df = pd.DataFrame(artist_track_data)"
   ]
  },
  {
   "cell_type": "markdown",
   "id": "ceba0566-cb56-48a3-895e-2ffa0bd576d6",
   "metadata": {},
   "source": [
    "# 4. Metric Table"
   ]
  },
  {
   "cell_type": "code",
   "execution_count": 19,
   "id": "cf2b0e58-132d-48ed-8e81-62612919e5e9",
   "metadata": {},
   "outputs": [],
   "source": [
    "# Extract unique metrics (song features) and assign unique IDs\n",
    "metric_columns = ['danceability_%', 'valence_%', 'energy_%', 'acousticness_%', \n",
    "                  'instrumentalness_%', 'liveness_%', 'speechiness_%', 'bpm', 'mode']\n",
    "\n",
    "# Get the metric data (song features) and ensure track association\n",
    "metric_df = df[metric_columns].drop_duplicates().reset_index(drop=True)\n",
    "metric_df['Metric_ID'] = 'Mt' + (metric_df.index + 1000).astype(str)\n",
    "track_id_map = track_df.set_index('Track_Name')['Track_ID'].to_dict()  # Map track_name to Track_ID\n",
    "metric_df['Track_ID'] = df['track_name'].map(track_id_map)  # Map the Track_ID for each row\n",
    "metric_df = metric_df[['Metric_ID', 'Track_ID'] + metric_columns]"
   ]
  },
  {
   "cell_type": "markdown",
   "id": "140b344a-8ef9-488f-9db7-4d89c2ace195",
   "metadata": {},
   "source": [
    "# 5. Platform Table"
   ]
  },
  {
   "cell_type": "code",
   "execution_count": 21,
   "id": "05598ca4-072f-43d0-8a31-c540c2456710",
   "metadata": {},
   "outputs": [],
   "source": [
    "# Define platform-related data columns\n",
    "platform_data = []\n",
    "platform_columns = {\n",
    "    'Spotify': ['in_spotify_playlists', 'in_spotify_charts'],\n",
    "    'Apple': ['in_apple_playlists', 'in_apple_charts'],\n",
    "    'Deezer': ['in_deezer_playlists', 'in_deezer_charts'],\n",
    "    'Shazam': ['in_shazam_charts']\n",
    "}\n",
    "platform_id_counter = 1000\n",
    "\n",
    "for idx, row in df.iterrows():\n",
    "    track_id = track_df.loc[track_df['Track_Name'] == row['track_name'], 'Track_ID'].values[0]\n",
    "    for platform, columns in platform_columns.items():\n",
    "        if platform == \"Shazam\":\n",
    "            platform_data.append({\n",
    "                'Platform_ID': f'Pl{platform_id_counter}',\n",
    "                'Track_ID': track_id,\n",
    "                'Platform_Name': platform,\n",
    "                'In_Playlists': 0,\n",
    "                'In_Charts': row[columns[0]]\n",
    "            })\n",
    "        else:\n",
    "            platform_data.append({\n",
    "                'Platform_ID': f'Pl{platform_id_counter}',\n",
    "                'Track_ID': track_id,\n",
    "                'Platform_Name': platform,\n",
    "                'In_Playlists': row[columns[0]],\n",
    "                'In_Charts': row[columns[1]]\n",
    "            })\n",
    "        platform_id_counter += 1\n",
    "\n",
    "platform_df = pd.DataFrame(platform_data)"
   ]
  },
  {
   "cell_type": "markdown",
   "id": "16718d99-b71f-426a-91a7-9c8d9046290e",
   "metadata": {},
   "source": [
    "# Return the tables directly for use in another Python script"
   ]
  },
  {
   "cell_type": "code",
   "execution_count": 23,
   "id": "6a7938c3-3296-442f-98bb-73c261b9bd68",
   "metadata": {},
   "outputs": [],
   "source": [
    "# Return the tables directly for use in another Python script\n",
    "def get_normalized_data():\n",
    "    return artist_df, track_df, artist_track_df, metric_df, platform_df\n",
    "\n",
    "# Call the function to return the dataframes\n",
    "artist_df, track_df, artist_track_df, metric_df, platform_df = get_normalized_data()"
   ]
  },
  {
   "cell_type": "code",
   "execution_count": 24,
   "id": "84ccd3c2-6b11-4c77-b966-71562540a736",
   "metadata": {},
   "outputs": [
    {
     "name": "stdout",
     "output_type": "stream",
     "text": [
      "    Artist_ID       Artist_Name\n",
      "0      Ar1000             Latto\n",
      "1      Ar1001         Jung Kook\n",
      "2      Ar1002       Myke Towers\n",
      "3      Ar1003    Olivia Rodrigo\n",
      "4      Ar1004      Taylor Swift\n",
      "..        ...               ...\n",
      "690    Ar1690       Mc Paiva ZS\n",
      "691    Ar1691  Ludwig Goransson\n",
      "692    Ar1692         Foudeqush\n",
      "693    Ar1693               Jin\n",
      "694    Ar1694      Selena Gomez\n",
      "\n",
      "[695 rows x 2 columns]     Track_ID                           Track_Name    Streams  Released_Day  \\\n",
      "0     Tr1000  Seven (feat. Latto) (Explicit Ver.)  141381703            14   \n",
      "1     Tr1001                                 LALA  133716286            23   \n",
      "2     Tr1002                              vampire  140003974            30   \n",
      "3     Tr1003                         Cruel Summer  800840817            23   \n",
      "4     Tr1004                       WHERE SHE GOES  303236322            18   \n",
      "..       ...                                  ...        ...           ...   \n",
      "937   Tr1937                         My Mind & Me   91473363             3   \n",
      "938   Tr1938            Bigger Than The Whole Sky  121871870            21   \n",
      "939   Tr1939                 A Veces (feat. Feid)   73513683             3   \n",
      "940   Tr1940                        En La De Ella  133895612            20   \n",
      "941   Tr1941                                Alone   96007391             4   \n",
      "\n",
      "     Released_Month  Released_Year  \\\n",
      "0                 7           2023   \n",
      "1                 3           2023   \n",
      "2                 6           2023   \n",
      "3                 8           2019   \n",
      "4                 5           2023   \n",
      "..              ...            ...   \n",
      "937              11           2022   \n",
      "938              10           2022   \n",
      "939              11           2022   \n",
      "940              10           2022   \n",
      "941              11           2022   \n",
      "\n",
      "                                             Cover_URL  \n",
      "0                                            Not Found  \n",
      "1    https://i.scdn.co/image/ab67616d0000b2730656d5...  \n",
      "2    https://i.scdn.co/image/ab67616d0000b273e85259...  \n",
      "3    https://i.scdn.co/image/ab67616d0000b273e787cf...  \n",
      "4    https://i.scdn.co/image/ab67616d0000b273ab5c9c...  \n",
      "..                                                 ...  \n",
      "937  https://i.scdn.co/image/ab67616d0000b2730f5397...  \n",
      "938  https://i.scdn.co/image/ab67616d0000b273e0b60c...  \n",
      "939                                          Not Found  \n",
      "940                                          Not Found  \n",
      "941  https://i.scdn.co/image/ab67616d0000b273992a1f...  \n",
      "\n",
      "[942 rows x 7 columns]      Artist_ID Track_ID\n",
      "0       Ar1000   Tr1000\n",
      "1       Ar1001   Tr1000\n",
      "2       Ar1002   Tr1001\n",
      "3       Ar1003   Tr1002\n",
      "4       Ar1004   Tr1003\n",
      "...        ...      ...\n",
      "1460    Ar1574   Tr1939\n",
      "1461    Ar1021   Tr1940\n",
      "1462    Ar1466   Tr1940\n",
      "1463    Ar1262   Tr1940\n",
      "1464    Ar1651   Tr1941\n",
      "\n",
      "[1465 rows x 2 columns]     Metric_ID Track_ID  danceability_%  valence_%  energy_%  acousticness_%  \\\n",
      "0      Mt1000   Tr1000              80         89        83              31   \n",
      "1      Mt1001   Tr1001              71         61        74               7   \n",
      "2      Mt1002   Tr1002              51         32        53              17   \n",
      "3      Mt1003   Tr1003              55         58        72              11   \n",
      "4      Mt1004   Tr1004              65         23        80              14   \n",
      "..        ...      ...             ...        ...       ...             ...   \n",
      "937    Mt1937   Tr1927              60         24        39              57   \n",
      "938    Mt1938   Tr1928              42          7        24              83   \n",
      "939    Mt1939   Tr1929              80         81        67               4   \n",
      "940    Mt1940   Tr1930              82         67        77               8   \n",
      "941    Mt1941   Tr1931              61         32        67              15   \n",
      "\n",
      "     instrumentalness_%  liveness_%  speechiness_%  bpm   mode  \n",
      "0                     0           8              4  125  Major  \n",
      "1                     0          10              4   92  Major  \n",
      "2                     0          31              6  138  Major  \n",
      "3                     0          11             15  170  Major  \n",
      "4                    63          11              6  144  Minor  \n",
      "..                  ...         ...            ...  ...    ...  \n",
      "937                   0           8              3  144  Major  \n",
      "938                   1          12              6  166  Major  \n",
      "939                   0           8              6   92  Major  \n",
      "940                   0          12              5   97  Major  \n",
      "941                   0          11              5   90  Minor  \n",
      "\n",
      "[942 rows x 11 columns]      Platform_ID Track_ID Platform_Name  In_Playlists  In_Charts\n",
      "0         Pl1000   Tr1000       Spotify           553        147\n",
      "1         Pl1001   Tr1000         Apple            43        263\n",
      "2         Pl1002   Tr1000        Deezer            45         10\n",
      "3         Pl1003   Tr1000        Shazam             0        826\n",
      "4         Pl1004   Tr1001       Spotify          1474         48\n",
      "...          ...      ...           ...           ...        ...\n",
      "3763      Pl4763   Tr1940        Shazam             0          0\n",
      "3764      Pl4764   Tr1941       Spotify           782          2\n",
      "3765      Pl4765   Tr1941         Apple            27         18\n",
      "3766      Pl4766   Tr1941        Deezer            32          1\n",
      "3767      Pl4767   Tr1941        Shazam             0          0\n",
      "\n",
      "[3768 rows x 5 columns]\n"
     ]
    }
   ],
   "source": [
    "print (artist_df, track_df, artist_track_df, metric_df, platform_df)"
   ]
  },
  {
   "cell_type": "code",
   "execution_count": 40,
   "id": "9090e5bc-5751-4421-8252-bbee925ec5cf",
   "metadata": {},
   "outputs": [],
   "source": [
    "# Save to CSV (to be used in other scripts or database loading)\n",
    "artist_df.to_csv('artist_table.csv', index=False)\n",
    "track_df.to_csv('track_table.csv', index=False)\n",
    "artist_track_df.to_csv('artist_track_table.csv', index=False)\n",
    "metric_df.to_csv('metric_table.csv', index=False)\n",
    "platform_df.to_csv('platform_table.csv', index=False)"
   ]
  }
 ],
 "metadata": {
  "kernelspec": {
   "display_name": "Python 3 (ipykernel)",
   "language": "python",
   "name": "python3"
  },
  "language_info": {
   "codemirror_mode": {
    "name": "ipython",
    "version": 3
   },
   "file_extension": ".py",
   "mimetype": "text/x-python",
   "name": "python",
   "nbconvert_exporter": "python",
   "pygments_lexer": "ipython3",
   "version": "3.12.7"
  }
 },
 "nbformat": 4,
 "nbformat_minor": 5
}
